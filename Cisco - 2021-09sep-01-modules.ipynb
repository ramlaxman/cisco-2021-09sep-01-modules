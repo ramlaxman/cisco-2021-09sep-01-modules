{
 "cells": [
  {
   "cell_type": "markdown",
   "metadata": {},
   "source": [
    "# Agenda\n",
    "\n",
    "1. What are modules, and why do we need them?\n",
    "2. What does `import` really do?\n",
    "3. When we `import`, how does Python find a module?\n",
    "4. Variations on `import`\n",
    "5. What does a module (file) look like?\n",
    "6. Defining variables and functions in a module\n",
    "7. What is `__name__`, and why is it important?"
   ]
  },
  {
   "cell_type": "markdown",
   "metadata": {},
   "source": [
    "# What are modules?\n",
    "\n",
    "The \"DRY\" rule (\"Don't repeat yourself\") is super important when we're programming.\n",
    "\n",
    "- If I have the same code several lines in a row, I should use a loop.\n",
    "- If I have the same code in several places in a program, I can turn it into a function, and then invoke the function from various places in my code.\n",
    "- If I have the same code in several different programs, then I can define my reused code in a *library*, and then load that library (and use it) whenever I need.\n",
    "\n",
    "In Python, we call our libraries \"modules.\"  But modules do more than that -- they are also namespaces."
   ]
  },
  {
   "cell_type": "markdown",
   "metadata": {},
   "source": [
    "# Loading modules with `import`\n",
    "\n",
    "To load a module into Python, we use the `import` statement.  It is *not* a function!"
   ]
  },
  {
   "cell_type": "code",
   "execution_count": 1,
   "metadata": {},
   "outputs": [],
   "source": [
    "import random"
   ]
  },
  {
   "cell_type": "code",
   "execution_count": 2,
   "metadata": {},
   "outputs": [
    {
     "data": {
      "text/plain": [
       "module"
      ]
     },
     "execution_count": 2,
     "metadata": {},
     "output_type": "execute_result"
    }
   ],
   "source": [
    "# What is random? \n",
    "type(random)"
   ]
  },
  {
   "cell_type": "markdown",
   "metadata": {},
   "source": [
    "# What does `import` do?\n",
    "\n",
    "1. It looks for a file with the same name as the module we want to load.  So if we say `import random`, Python looks for `random.py`.\n",
    "2. After loading the module, it d"
   ]
  }
 ],
 "metadata": {
  "kernelspec": {
   "display_name": "Python 3",
   "language": "python",
   "name": "python3"
  },
  "language_info": {
   "codemirror_mode": {
    "name": "ipython",
    "version": 3
   },
   "file_extension": ".py",
   "mimetype": "text/x-python",
   "name": "python",
   "nbconvert_exporter": "python",
   "pygments_lexer": "ipython3",
   "version": "3.9.6"
  }
 },
 "nbformat": 4,
 "nbformat_minor": 4
}
